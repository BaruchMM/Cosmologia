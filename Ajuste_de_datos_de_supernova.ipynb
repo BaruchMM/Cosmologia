{
  "cells": [
    {
      "cell_type": "markdown",
      "metadata": {
        "id": "view-in-github",
        "colab_type": "text"
      },
      "source": [
        "<a href=\"https://colab.research.google.com/github/BaruchMM/Relatividad-general-y-Cosmologia/blob/main/Ajuste_de_datos_de_supernova.ipynb\" target=\"_parent\"><img src=\"https://colab.research.google.com/assets/colab-badge.svg\" alt=\"Open In Colab\"/></a>"
      ]
    },
    {
      "cell_type": "markdown",
      "metadata": {
        "id": "P2uH7mWWll0l"
      },
      "source": [
        "# Tarea 4 de Cosmología\n",
        "###Baruch Mejía Martíez | mejiamb2018@licifug.ugto.mx"
      ]
    },
    {
      "cell_type": "code",
      "execution_count": 23,
      "metadata": {
        "id": "asian-riverside"
      },
      "outputs": [],
      "source": [
        "import numpy as np\n",
        "import matplotlib.pyplot as plt\n",
        "from astropy.cosmology import FlatLambdaCDM\n",
        "from scipy.optimize import minimize\n"
      ]
    },
    {
      "cell_type": "markdown",
      "metadata": {
        "id": "k3qTR_YdyGUr"
      },
      "source": [
        "Obtenemos los datos de las supernovas de $\\mu$ contra redshift."
      ]
    },
    {
      "cell_type": "code",
      "execution_count": 7,
      "metadata": {
        "id": "basic-graham"
      },
      "outputs": [],
      "source": [
        "data=np.loadtxt(\"/content/supernova_data.txt\",usecols=(1,2,3)).T\n",
        "sigma = data[2]"
      ]
    },
    {
      "cell_type": "markdown",
      "metadata": {
        "id": "vSO3FC4wn6B2"
      },
      "source": [
        "Graficamos los datos con su respectiva desviación estandar."
      ]
    },
    {
      "cell_type": "code",
      "execution_count": 30,
      "metadata": {
        "colab": {
          "base_uri": "https://localhost:8080/",
          "height": 391
        },
        "id": "bearing-kinase",
        "outputId": "05b6d35a-22ce-4830-fbfc-b37128e6c919"
      },
      "outputs": [
        {
          "output_type": "display_data",
          "data": {
            "text/plain": [
              "<Figure size 648x432 with 1 Axes>"
            ],
            "image/png": "[encoded data removed]"
          },
          "metadata": {}
        }
      ],
      "source": [
        "with plt.style.context('Solarize_Light2'):\n",
        "  plt.figure(figsize=(9,6))\n",
        "  plt.errorbar(data[0], data[1], yerr=sigma, fmt=\"o\", label='data')\n",
        "  plt.legend()\n",
        "  plt.ylabel(r'$\\mu$')\n",
        "  plt.xlabel(r'$z$')\n",
        "  plt.show()"
      ]
    },
    {
      "cell_type": "markdown",
      "source": [
        "Ya que queremos obtener los parámetros de densidad de materia y $\\Lambda$ que mejor se ajusten a los datos, debemos definir una función a la que se le buscará el mejor ajuste.\n",
        "\n",
        "Primero, sabemos que el modulo de distancia se define como\n",
        "$$\\mu = 5 \\log_{10}\\left(  \\dfrac{d_L}{1 Mpc} \\right)+25$$\n",
        "Para obtener el valor de la distancia luminosa podemos usar la función \n",
        "\n",
        "```\n",
        "FlatLambdaCDM(H0, Om0)\n",
        "```\n",
        "Aplicando la constricción de Friedman $\\Omega_{m,0}+\\Omega_{\\Lambda,0}=1$, dejamos fijo el valor de $\\Omega_{\\Lambda,0}$, entonces $\\Omega_{m,0}= 1-\\Omega_{\\Lambda,0}$. \n",
        "\n",
        "Entonces, extraemos el método luminosity_distance(z) para obtener la distancia luminosa para algún valor de $\\Omega_\\Lambda$ que mejor se ajuste y devolvemos el módulo de distáncia.\n"
      ],
      "metadata": {
        "id": "qYShw59hyXqW"
      }
    },
    {
      "cell_type": "code",
      "execution_count": 13,
      "metadata": {
        "id": "MmcYYuBIXAes"
      },
      "outputs": [],
      "source": [
        "def distance_Modulus(z, olambda):\n",
        "  cosmo =FlatLambdaCDM(H0=67.36, Om0=1. - olambda)\n",
        "  DL = cosmo.luminosity_distance(z) \n",
        "  distanceModulus = 5 * np.log10(DL.value)+25\n",
        "  return distanceModulus"
      ]
    },
    {
      "cell_type": "markdown",
      "metadata": {
        "id": "genuine-iraqi"
      },
      "source": [
        "Como se mencionó anteriormente, para hacer un ajuste de una curva a ciertos datos necesitamos una función a la cual se le hará el ajuste de sus parámetros para que se ajuste a los datos y los datos. Definimos una prueba de $\\chi^2$ teniendo como valores esperados a los del modelo definido en la función distance_Modulus() y los valores observados como data[1]."
      ]
    },
    {
      "cell_type": "code",
      "source": [
        "def chi2(params):\n",
        "  olambda=params[0]\n",
        "  model   = distance_Modulus(data[0], olambda) \n",
        "  \n",
        "  return  np.sum((data[1] - model)**2./data[2]**2) "
      ],
      "metadata": {
        "id": "bUYnaq0MALcR"
      },
      "execution_count": 22,
      "outputs": []
    },
    {
      "cell_type": "markdown",
      "source": [
        "Usamos la función minimize de scipy.optimize en el test de $\\chi^2$"
      ],
      "metadata": {
        "id": "8bzzOYah7qnn"
      }
    },
    {
      "cell_type": "code",
      "source": [
        "res = minimize(chi2, x0=[0],method='L-BFGS-B', bounds=[(0,0.999)])\n",
        "res"
      ],
      "metadata": {
        "colab": {
          "base_uri": "https://localhost:8080/"
        },
        "id": "M4AU__3_Bg87",
        "outputId": "605fb960-146d-4042-9972-4ef6931fd673"
      },
      "execution_count": 21,
      "outputs": [
        {
          "output_type": "execute_result",
          "data": {
            "text/plain": [
              "      fun: 331.2739590602862\n",
              " hess_inv: <1x1 LbfgsInvHessProduct with dtype=float64>\n",
              "      jac: array([-0.00161435])\n",
              "  message: b'CONVERGENCE: REL_REDUCTION_OF_F_<=_FACTR*EPSMCH'\n",
              "     nfev: 16\n",
              "      nit: 5\n",
              "   status: 0\n",
              "  success: True\n",
              "        x: array([0.60542241])"
            ]
          },
          "metadata": {},
          "execution_count": 21
        }
      ]
    },
    {
      "cell_type": "markdown",
      "source": [
        "De aquí, obtenemos que el valor de $\\Omega_\\Lambda$ que mejor se ajusta al tiempo actual es:\n",
        "\n",
        "```\n",
        "x: array([0.60542241])\n",
        "```\n",
        "\n"
      ],
      "metadata": {
        "id": "WpNwibAd-KsR"
      }
    },
    {
      "cell_type": "markdown",
      "source": [
        "De modo que podemos obtener el valor de $\\Omega_{m,0}$"
      ],
      "metadata": {
        "id": "wopHjKYX-7uj"
      }
    },
    {
      "cell_type": "code",
      "source": [
        "omega_m = 1-res.x[0]\n",
        "omega_m"
      ],
      "metadata": {
        "colab": {
          "base_uri": "https://localhost:8080/"
        },
        "id": "aLe3q2C6Ndrx",
        "outputId": "b6e0c124-86e3-4e3d-d3e7-88044c62af54"
      },
      "execution_count": null,
      "outputs": [
        {
          "output_type": "execute_result",
          "data": {
            "text/plain": [
              "0.39442605867315417"
            ]
          },
          "metadata": {},
          "execution_count": 258
        }
      ]
    },
    {
      "cell_type": "markdown",
      "source": [
        "Obtenemos $\\Omega_{m,0} = 0.3944$ y $\\Omega_{\\Lambda,0} = 0.60557$"
      ],
      "metadata": {
        "id": "0_bzWIrGN3VJ"
      }
    },
    {
      "cell_type": "markdown",
      "source": [
        "Calculamos los valores del modulo de distancia con este valor de $\\Omega_\\Lambda$"
      ],
      "metadata": {
        "id": "Yy00goDV-ikx"
      }
    },
    {
      "cell_type": "code",
      "source": [
        "z=np.linspace(0.01,2,100)\n",
        "mu = distance_Modulus(z,res.x[0])"
      ],
      "metadata": {
        "id": "g6g95BJd-ySJ"
      },
      "execution_count": 32,
      "outputs": []
    },
    {
      "cell_type": "markdown",
      "source": [
        "Finalmente graficamos la curva de la función."
      ],
      "metadata": {
        "id": "9tg4yv2j_K_o"
      }
    },
    {
      "cell_type": "code",
      "source": [
        "with plt.style.context('Solarize_Light2'):\n",
        "  plt.figure(figsize=(9,6))\n",
        "  plt.errorbar(data[0],data[1], yerr=sigma, fmt=\"o\", label='data')\n",
        "  plt.plot(z,mu, '-',color='orange', lw=2, label='best_fit')\n",
        "  plt.legend()\n",
        "  plt.ylabel(r'$\\mu$')\n",
        "  plt.xlabel(r'$z$')\n",
        "  plt.show()"
      ],
      "metadata": {
        "colab": {
          "base_uri": "https://localhost:8080/",
          "height": 391
        },
        "id": "EnpXFo07KOnW",
        "outputId": "8a00e400-d584-4b44-8be4-cb10844a0c91"
      },
      "execution_count": 31,
      "outputs": [
        {
          "output_type": "display_data",
          "data": {
            "text/plain": [
              "<Figure size 648x432 with 1 Axes>"
            ],
            "image/png": "[encoded data removed]"
          },
          "metadata": {}
        }
      ]
    }
  ],
  "metadata": {
    "colab": {
      "name": "Tarea_4_Cosmologia.ipynb",
      "provenance": [],
      "authorship_tag": "ABX9TyPWzpUOGvHxB0tRgKmYikbI",
      "include_colab_link": true
    },
    "kernelspec": {
      "display_name": "Python 3",
      "name": "python3"
    },
    "language_info": {
      "name": "python"
    }
  },
  "nbformat": 4,
  "nbformat_minor": 0
}