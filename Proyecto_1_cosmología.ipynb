{
  "cells": [
    {
      "cell_type": "markdown",
      "metadata": {
        "id": "view-in-github",
        "colab_type": "text"
      },
      "source": [
        "<a href=\"https://colab.research.google.com/github/BaruchMM/Relatividad-general-y-Cosmologia/blob/main/Proyecto_1_cosmolog%C3%ADa.ipynb\" target=\"_parent\"><img src=\"https://colab.research.google.com/assets/colab-badge.svg\" alt=\"Open In Colab\"/></a>"
      ]
    },
    {
      "cell_type": "code",
      "execution_count": 144,
      "metadata": {
        "id": "HF_ze51sRRID"
      },
      "outputs": [],
      "source": [
        "import matplotlib.pyplot as plt \n",
        "import pylab as pl\n",
        "import numpy as np \n",
        "from ipywidgets import interact, interactive, fixed, interact_manual\n",
        "import ipywidgets as wd\n",
        "import matplotlib.gridspec as gridspec\n",
        "from scipy.integrate import odeint\n",
        "import sympy as sy\n",
        "from scipy import integrate\n",
        "\n",
        "from scipy.integrate import solve_bvp, odeint"
      ]
    },
    {
      "cell_type": "markdown",
      "metadata": {
        "id": "bgZFrvsSReXV"
      },
      "source": [
        "Cambiar por condiciones iniciales del modelo $\\Lambda$-CDM y las gamas para radiación, materia (barionica y de materia oscura fría) y energía oscura."
      ]
    },
    {
      "cell_type": "code",
      "execution_count": 145,
      "metadata": {
        "id": "jXu768iQRcKW",
        "colab": {
          "base_uri": "https://localhost:8080/"
        },
        "outputId": "6b819731-8529-42a6-e8fe-283e6991718f"
      },
      "outputs": [
        {
          "output_type": "stream",
          "name": "stdout",
          "text": [
            "['$\\\\Omega_m$', '$\\\\Omega_r$', '$\\\\Omega_\\\\lambda$']\n"
          ]
        },
        {
          "output_type": "execute_result",
          "data": {
            "text/plain": [
              "7.357716869716421e-11"
            ]
          },
          "metadata": {},
          "execution_count": 145
        }
      ],
      "source": [
        "#                     materia            radiación,       e. osc ,\n",
        "omegas0 = [  0.3153 - 5.344e-5*1.681 ,  5.344e-5*1.681,    0.6847    ]\n",
        "#Constantes importantes\n",
        "#velociidad de la luz en el vacío\n",
        "c = 299792458#m/s\n",
        "#Constante de gravitación universal\n",
        "G = 6.67430*10**-11 #N m^2⋅kg^–2\n",
        "\n",
        "H_0 = 72/3.17098e-8/3.086e+19 #1/años \n",
        "\n",
        "syms = [\"$\\Omega_m$\",\"$\\Omega_r$\",\"$\\Omega_\\lambda$\"]\n",
        "print(syms)\n",
        "H_0"
      ]
    },
    {
      "cell_type": "code",
      "source": [
        "5.344e-5*1.681"
      ],
      "metadata": {
        "colab": {
          "base_uri": "https://localhost:8080/"
        },
        "id": "DUJET1FVYyAc",
        "outputId": "1673cc28-9c4d-4caa-8b55-076087f1302a"
      },
      "execution_count": 146,
      "outputs": [
        {
          "output_type": "execute_result",
          "data": {
            "text/plain": [
              "8.983264000000001e-05"
            ]
          },
          "metadata": {},
          "execution_count": 146
        }
      ]
    },
    {
      "cell_type": "markdown",
      "metadata": {
        "id": "AAGLG6-hpHHn"
      },
      "source": [
        "Definimos la constante $Const = \\dfrac{8 \\pi G}{3 c^2}  $"
      ]
    },
    {
      "cell_type": "code",
      "source": [
        "0.6847+0.3153"
      ],
      "metadata": {
        "colab": {
          "base_uri": "https://localhost:8080/"
        },
        "id": "AwgvT9qjwWPy",
        "outputId": "a1fb1848-e3e4-4c90-834e-25a023e3939a"
      },
      "execution_count": 147,
      "outputs": [
        {
          "output_type": "execute_result",
          "data": {
            "text/plain": [
              "1.0"
            ]
          },
          "metadata": {},
          "execution_count": 147
        }
      ]
    },
    {
      "cell_type": "code",
      "execution_count": 148,
      "metadata": {
        "id": "i_xIIsZgpGxu"
      },
      "outputs": [],
      "source": [
        "Const = 8*np.pi*G/(3*c**2)"
      ]
    },
    {
      "cell_type": "markdown",
      "metadata": {
        "id": "9744ZO5QR8du"
      },
      "source": [
        "Condiciones del sistema:\n",
        "cambiar la variable independiente a tiempo en un rango (0, $t_0$)"
      ]
    },
    {
      "cell_type": "code",
      "execution_count": 149,
      "metadata": {
        "id": "b6C8ztXjrnkf"
      },
      "outputs": [],
      "source": [
        "num_punt = 1000\n",
        "t = np.linspace(13.6*10**9,0,num_punt)"
      ]
    },
    {
      "cell_type": "markdown",
      "metadata": {
        "id": "yUw9WmpDSSGj"
      },
      "source": [
        "Definimos la ecuación diferencial"
      ]
    },
    {
      "cell_type": "code",
      "source": [
        "def eqtl(a,t):\n",
        "  y=a\n",
        "  omegas0 = [  0.3153 - 5.344e-5*1.681 ,  5.344e-5*1.681,    0.6847    ]\n",
        "  dydtt = ((omegas0[0]*y**(-1)+omegas0[1]*y**(-2)+omegas0[2]*y**2)**(1/2))*H_0\n",
        "  return dydtt\n",
        "def eqtm(a,t):\n",
        "  y=a\n",
        "  omegas0 = [  0.3153 - 5.344e-5*1.681 ,  5.344e-5*1.681,    0.6847    ]\n",
        "  dydtt = ((omegas0[0]*y**(-1)+omegas0[1]*y**(-2)+omegas0[2]*y**2)**(1/2))*H_0\n",
        "  return dydtt\n",
        "def eqtr(a,t):\n",
        "  y=a\n",
        "  omegas0 = [  0.3153 - 5.344e-5*1.681 ,  5.344e-5*1.681,    0.6847    ]\n",
        "  dydtt = ((omegas0[0]*y**(-1)+omegas0[1]*y**(-2)+omegas0[2]*y**2)**(1/2))*H_0\n",
        "  return dydtt"
      ],
      "metadata": {
        "id": "WARZFqk70_Tq"
      },
      "execution_count": 150,
      "outputs": []
    },
    {
      "cell_type": "code",
      "source": [
        "t = np.linspace(13.797*10**9,0,15000)\n",
        "al = odeint(eqtl, 1, t)\n",
        "am = odeint(eqtm, 1, t)\n",
        "ar = odeint(eqtr, 1, t)"
      ],
      "metadata": {
        "colab": {
          "base_uri": "https://localhost:8080/"
        },
        "id": "Q--fVx291kP7",
        "outputId": "40b8f0e8-c9d8-41b0-b905-1cf0f4c1d41b"
      },
      "execution_count": 151,
      "outputs": [
        {
          "output_type": "stream",
          "name": "stderr",
          "text": [
            "/usr/local/lib/python3.7/dist-packages/ipykernel_launcher.py:4: RuntimeWarning: invalid value encountered in sqrt\n",
            "  after removing the cwd from sys.path.\n",
            "/usr/local/lib/python3.7/dist-packages/ipykernel_launcher.py:9: RuntimeWarning: invalid value encountered in sqrt\n",
            "  if __name__ == '__main__':\n",
            "/usr/local/lib/python3.7/dist-packages/ipykernel_launcher.py:14: RuntimeWarning: invalid value encountered in sqrt\n",
            "  \n"
          ]
        }
      ]
    },
    {
      "cell_type": "code",
      "execution_count": 152,
      "metadata": {
        "colab": {
          "base_uri": "https://localhost:8080/",
          "height": 499
        },
        "id": "ieoDfM3aSUsW",
        "outputId": "144b1bf1-9d83-41a3-9eae-e470b7bd1022"
      },
      "outputs": [
        {
          "output_type": "stream",
          "name": "stderr",
          "text": [
            "/usr/local/lib/python3.7/dist-packages/ipykernel_launcher.py:5: RuntimeWarning: invalid value encountered in sqrt\n",
            "  \"\"\"\n",
            "/usr/local/lib/python3.7/dist-packages/numpy/core/shape_base.py:65: VisibleDeprecationWarning: Creating an ndarray from ragged nested sequences (which is a list-or-tuple of lists-or-tuples-or ndarrays with different lengths or shapes) is deprecated. If you meant to do this, you must specify 'dtype=object' when creating the ndarray.\n",
            "  ary = asanyarray(ary)\n",
            "No handles with labels found to put in legend.\n"
          ]
        },
        {
          "output_type": "display_data",
          "data": {
            "text/plain": [
              "<Figure size 792x432 with 1 Axes>"
            ],
            "image/png": "[encoded data removed]"
          },
          "metadata": {
            "needs_background": "light"
          }
        }
      ],
      "source": [
        "\n",
        "def eqt(a,t):\n",
        "  y=a\n",
        "  omegas0 = [  0.3153 - 5.344e-5*1.681 ,  5.344e-5*1.681,    0.6847    ]\n",
        "  dydtt = ((omegas0[0]*y**(-1)+omegas0[1]*y**(-2)+omegas0[2]*y**2)**(1/2))*H_0\n",
        "  return dydtt\n",
        "\n",
        "t = np.linspace(13.797*10**9,0,15000)\n",
        "sol = odeint(eqt, 1, t)\n",
        "ScalePara = []\n",
        "for i in sol:\n",
        "  if np.isnan(i) == False:\n",
        "    ScalePara.append((i))\n",
        "\n",
        "t = np.linspace(13.797*10**9,0,len(ScalePara))\n",
        "ScalePara[-1] = 0.00000000001\n",
        "plt.figure(figsize=(11,6))\n",
        "plt.plot(t, ScalePara) \n",
        "plt.xlabel('Years')\n",
        "plt.ylabel('$a(t)$')\n",
        "plt.legend()\n",
        "plt.grid()\n",
        "plt.show()"
      ]
    },
    {
      "cell_type": "code",
      "source": [
        "t = np.linspace(13.797*10**9,0,15000)\n",
        "aldot = eqtl(al,t)\n",
        "amdot = eqtl(am,t)\n",
        "ardot = eqtl(ar,t)\n"
      ],
      "metadata": {
        "id": "J59UKuAN4L2A"
      },
      "execution_count": 153,
      "outputs": []
    },
    {
      "cell_type": "markdown",
      "source": [
        "#Parametro de Hubble"
      ],
      "metadata": {
        "id": "Ix-D-ZxRaWbZ"
      }
    },
    {
      "cell_type": "markdown",
      "source": [
        "Expresamos $H=\\dfrac{\\dot{a}}{a}$"
      ],
      "metadata": {
        "id": "9mU7imt6aaSv"
      }
    },
    {
      "cell_type": "code",
      "source": [
        "#z mu  error"
      ],
      "metadata": {
        "id": "Sr2KRYJTlwPF"
      },
      "execution_count": 154,
      "outputs": []
    },
    {
      "cell_type": "code",
      "source": [
        "def Adott(a,t):\n",
        "  y=np.array(a)\n",
        "  omegas0 = [  0.3153 - 5.344e-5*1.681 ,  5.344e-5*1.681,    0.6847    ]\n",
        "  adott =((omegas0[0]*y**(-1)+omegas0[1]*y**(-2)+omegas0[2]*y**2)**(1/2))*H_0\n",
        "  return adott\n",
        "def Adotl(a,t):\n",
        "  y=np.array(a)\n",
        "  omegas0 = [  0.3153 - 5.344e-5*1.681 ,  5.344e-5*1.681,    0.6847    ]\n",
        "  adott =((omegas0[0]*y**(-1)+omegas0[1]*y**(-2)+omegas0[2]*y**2)**(1/2))*H_0\n",
        "  return adott\n",
        "def Adotm(a,t):\n",
        "  y=np.array(a)\n",
        "  omegas0 = [  0.3153 - 5.344e-5*1.681 ,  5.344e-5*1.681,    0.6847    ]\n",
        "  adott =((omegas0[0]*y**(-1)+omegas0[1]*y**(-2)+omegas0[2]*y**2)**(1/2))*H_0\n",
        "  return adott\n",
        "def Adotr(a,t):\n",
        "  y=np.array(a)\n",
        "  omegas0 = [  0.3153 - 5.344e-5*1.681 ,  5.344e-5*1.681,    0.6847    ]\n",
        "  adott =((omegas0[0]*y**(-1)+omegas0[1]*y**(-2)+omegas0[2]*y**2)**(1/2))*H_0\n",
        "  return adott\n",
        "adot = (Adott(ScalePara,t))\n",
        "adotl = (Adotl(ScalePara,t))[1]\n",
        "adotm = (Adotm(ScalePara,t))[2]\n",
        "adotr = (Adotr(ScalePara,t))[3]\n",
        "H = []\n",
        "H.append(adot/np.array(ScalePara))\n",
        "H.append(aldot/np.array(al))\n",
        "H.append(amdot/np.array(am))\n",
        "H.append(ardot/np.array(ar))"
      ],
      "metadata": {
        "id": "4uHVNqrHamYq",
        "colab": {
          "base_uri": "https://localhost:8080/"
        },
        "outputId": "a07c791f-f286-4370-eea3-e550ec456df3"
      },
      "execution_count": 155,
      "outputs": [
        {
          "output_type": "stream",
          "name": "stderr",
          "text": [
            "/usr/local/lib/python3.7/dist-packages/ipykernel_launcher.py:2: VisibleDeprecationWarning: Creating an ndarray from ragged nested sequences (which is a list-or-tuple of lists-or-tuples-or ndarrays with different lengths or shapes) is deprecated. If you meant to do this, you must specify 'dtype=object' when creating the ndarray.\n",
            "  \n",
            "/usr/local/lib/python3.7/dist-packages/ipykernel_launcher.py:7: VisibleDeprecationWarning: Creating an ndarray from ragged nested sequences (which is a list-or-tuple of lists-or-tuples-or ndarrays with different lengths or shapes) is deprecated. If you meant to do this, you must specify 'dtype=object' when creating the ndarray.\n",
            "  import sys\n",
            "/usr/local/lib/python3.7/dist-packages/ipykernel_launcher.py:12: VisibleDeprecationWarning: Creating an ndarray from ragged nested sequences (which is a list-or-tuple of lists-or-tuples-or ndarrays with different lengths or shapes) is deprecated. If you meant to do this, you must specify 'dtype=object' when creating the ndarray.\n",
            "  if sys.path[0] == '':\n",
            "/usr/local/lib/python3.7/dist-packages/ipykernel_launcher.py:17: VisibleDeprecationWarning: Creating an ndarray from ragged nested sequences (which is a list-or-tuple of lists-or-tuples-or ndarrays with different lengths or shapes) is deprecated. If you meant to do this, you must specify 'dtype=object' when creating the ndarray.\n",
            "/usr/local/lib/python3.7/dist-packages/ipykernel_launcher.py:26: VisibleDeprecationWarning: Creating an ndarray from ragged nested sequences (which is a list-or-tuple of lists-or-tuples-or ndarrays with different lengths or shapes) is deprecated. If you meant to do this, you must specify 'dtype=object' when creating the ndarray.\n"
          ]
        }
      ]
    },
    {
      "cell_type": "code",
      "source": [
        "plt.figure(figsize=(11,6))\n",
        "for i in range(1,3):\n",
        "  plt.plot(t, H[i]) \n",
        "p = t\n",
        "times = []\n",
        "for i in range(14044):\n",
        "  times.append(p[i])\n",
        "plt.plot(times, H[0]) \n",
        "plt.xlabel('Years')\n",
        "plt.ylabel('$H$')\n",
        "plt.legend()\n",
        "plt.grid()\n",
        "plt.yscale('log')\n",
        "plt.show()"
      ],
      "metadata": {
        "id": "9kbj_KFAdhzk",
        "colab": {
          "base_uri": "https://localhost:8080/",
          "height": 406
        },
        "outputId": "cf56bb7a-6db4-4a3e-945c-ffde064acfce"
      },
      "execution_count": 156,
      "outputs": [
        {
          "output_type": "stream",
          "name": "stderr",
          "text": [
            "No handles with labels found to put in legend.\n"
          ]
        },
        {
          "output_type": "display_data",
          "data": {
            "text/plain": [
              "<Figure size 792x432 with 1 Axes>"
            ],
            "image/png": "[encoded data removed]"
          },
          "metadata": {
            "needs_background": "light"
          }
        }
      ]
    },
    {
      "cell_type": "markdown",
      "source": [
        "# Red Shift"
      ],
      "metadata": {
        "id": "qMecbqvJDsWn"
      }
    },
    {
      "cell_type": "markdown",
      "source": [
        "Para las soluciones en función del redshift y el tiempo se usarán unicamente las soluciones analíticas."
      ],
      "metadata": {
        "id": "VN1fQQ7ve6ZL"
      }
    },
    {
      "cell_type": "code",
      "source": [
        "def redshift(a):\n",
        "  z = (1/np.array(a))-1\n",
        "  return z\n",
        "z = redshift(ScalePara)\n",
        "zl = redshift(al)\n",
        "zm = redshift(am)\n",
        "zr = redshift(ar)\n",
        "print(z)"
      ],
      "metadata": {
        "id": "NQvy94DMDudU",
        "colab": {
          "base_uri": "https://localhost:8080/"
        },
        "outputId": "ec9213cc-eddd-4920-801b-1d974b9cca0f"
      },
      "execution_count": 157,
      "outputs": [
        {
          "output_type": "stream",
          "name": "stdout",
          "text": [
            "[array([0.]) array([6.76829586e-05]) array([0.00013537]) ...\n",
            " array([408.84707997]) array([654.8823138]) 99999999999.0]\n"
          ]
        },
        {
          "output_type": "stream",
          "name": "stderr",
          "text": [
            "/usr/local/lib/python3.7/dist-packages/ipykernel_launcher.py:2: VisibleDeprecationWarning: Creating an ndarray from ragged nested sequences (which is a list-or-tuple of lists-or-tuples-or ndarrays with different lengths or shapes) is deprecated. If you meant to do this, you must specify 'dtype=object' when creating the ndarray.\n",
            "  \n"
          ]
        }
      ]
    },
    {
      "cell_type": "markdown",
      "source": [
        "# Parametros de densidad energía-materia"
      ],
      "metadata": {
        "id": "bsIyCkCjeO3y"
      }
    },
    {
      "cell_type": "markdown",
      "metadata": {
        "id": "-B30FHFhQ0hD"
      },
      "source": [
        "\n",
        "Si aplicamos la constricción de Friedmann desde el inicio, tendremos que \n",
        "$$ \\Omega_{m}+\\Omega_{r}+\\Omega_{\\Lambda}=1 \\phantom{aa}\\Rightarrow \\phantom{aa} \\Omega_{\\Lambda}=1-\\Omega_{m}-\\Omega_{r}$$\n",
        "Si asignamos los sibíndices $m=1,r=2,\\Lambda=3$.\n",
        "\n",
        "Notemos que si recorremos índices para tener n+1 fluidos, obtenemos lo siguiente.\n",
        "$$\\Omega_i'=3\\Omega_i\\left(\\sum_{j=1}^n  \\Omega_j(\\gamma_j-\\gamma_{n-1}) -(\\gamma_i-\\gamma_{n-1})  \\right)$$\n",
        "donde $\\dfrac{d\\Omega}{d\\ln a}=\\Omega'$\n",
        "Esto tiene como solución\n",
        "\n",
        "$$\\Omega_i=\\Omega_{i,0}\\dfrac{e^{-3\\gamma_iN}}{\\sum_{j=1}^{n+1}\\Omega_{j,0}e^{-3\\gamma_jN}}  = \\Omega_{i,0}\\dfrac{a^{-3\\gamma_i}}{\\sum_{j=1}^{n+1}\\Omega_{j,0}a^{-3\\gamma_j}} $$\n",
        "Este método nos permite solo tener dos condiciones iniciales, ya que la tercera será la diferencia\n",
        "$$ \\Omega_{\\Lambda,0}=1-\\Omega_{m,0}-\\Omega_{r,0}$$"
      ]
    },
    {
      "cell_type": "code",
      "metadata": {
        "id": "-f2N-QdiSd0-"
      },
      "source": [
        "gammas = [1/3,2/3,-2/3]"
      ],
      "execution_count": 158,
      "outputs": []
    },
    {
      "cell_type": "markdown",
      "metadata": {
        "id": "9sb4B21Q1aHH"
      },
      "source": [
        "Definimos la suma $\\sum_{j=1}^{3}\\Omega_{j,0}e^{-3\\gamma_jN}$"
      ]
    },
    {
      "cell_type": "code",
      "metadata": {
        "id": "pVijo68h2yFr"
      },
      "source": [
        "def Denominador_solucion(omega0, gammas,ScalePara):\n",
        "  Den=0\n",
        "  for i in range(len(omega0)):\n",
        "    Den=omegas0[i]*np.array(ScalePara)**(-3*gammas[i])+Den\n",
        "  return Den"
      ],
      "execution_count": 159,
      "outputs": []
    },
    {
      "cell_type": "markdown",
      "metadata": {
        "id": "DRJ_vuqYUxhw"
      },
      "source": [
        "Escribimos la solución exacta de la ecuación diferencial utilizando las condiciones iniciales que cumplan la constricción de Friedmann"
      ]
    },
    {
      "cell_type": "code",
      "metadata": {
        "id": "7bnXn-DeVJb8"
      },
      "source": [
        "def soll(omegas0,ScalePara):\n",
        "  omega=[]\n",
        "  i0= omegas0\n",
        "  for i in range(len(omegas0)):\n",
        "    omega.append(i0[i]*(np.array(ScalePara)**(-3*gammas[i]))/Denominador_solucion(omegas0,gammas,ScalePara))\n",
        "  return omega"
      ],
      "execution_count": 160,
      "outputs": []
    },
    {
      "cell_type": "markdown",
      "metadata": {
        "id": "8dUg_s1y0xZX"
      },
      "source": [
        "Notemos que estas condiciones iniciales respetan la constricción de Friedmann"
      ]
    },
    {
      "cell_type": "code",
      "metadata": {
        "id": "Masi4CZq03ZY"
      },
      "source": [
        "sum=0\n",
        "for i in range(len(omegas0)):\n",
        "  sum=omegas0[i]+sum\n",
        "print(sum) "
      ],
      "execution_count": 161,
      "outputs": []
    },
    {
      "cell_type": "markdown",
      "metadata": {
        "id": "5B9Y8Zzz1EBI"
      },
      "source": [
        "Encontramos nuestras soluciones analíticas con las condiciones iniciales y valores de gamma que definimos previamente"
      ]
    },
    {
      "cell_type": "code",
      "metadata": {
        "id": "Rx2sYJ0k1K5g"
      },
      "source": [
        "i =1 \n",
        "So=(soll(omegas0,ScalePara))\n"
      ],
      "execution_count": 162,
      "outputs": []
    },
    {
      "cell_type": "code",
      "source": [
        "Sola = []\n",
        "np.shape(So)\n",
        "for i in range(len(ScalePara)):\n",
        "  Sola.append(So[0][0][0])\n",
        "\n",
        "# So[1]"
      ],
      "metadata": {
        "id": "I-NYuCNjpUBO"
      },
      "execution_count": 163,
      "outputs": []
    },
    {
      "cell_type": "markdown",
      "metadata": {
        "id": "uqD6Enur4e3C"
      },
      "source": [
        "Finalmete, graficamos las soluciones analíticas"
      ]
    },
    {
      "cell_type": "code",
      "metadata": {
        "id": "pXCl5FoJECJ5"
      },
      "source": [
        "plt.figure(figsize=(11,6))\n",
        "for i in range(len(omegas0)):\n",
        "  plt.plot(ScalePara, So[i], label=syms[i]) \n",
        "####\n",
        "plt.xlabel('$a(t)$')\n",
        "plt.ylabel('$\\Omega$')\n",
        "plt.legend()\n",
        "plt.grid()\n",
        "plt.ylim(0,1.02)\n",
        "plt.show()"
      ],
      "execution_count": 164,
      "outputs": []
    },
    {
      "cell_type": "code",
      "source": [
        "np.shape(So)"
      ],
      "metadata": {
        "id": "A1KLZMjWxLUg"
      },
      "execution_count": 165,
      "outputs": []
    },
    {
      "cell_type": "code",
      "source": [
        "((So[1]).tolist())[len(ScalePara)-2]"
      ],
      "metadata": {
        "id": "tXYY9o3d6xEn"
      },
      "execution_count": 166,
      "outputs": []
    },
    {
      "cell_type": "markdown",
      "metadata": {
        "id": "H6E96zBemiKa"
      },
      "source": [
        "Usaremos la solución analítica para calcular la edad del universo."
      ]
    },
    {
      "cell_type": "code",
      "metadata": {
        "id": "cevuaZtFmdsh"
      },
      "source": [
        "i0 = omegas0\n",
        "print(i0)"
      ],
      "execution_count": 167,
      "outputs": []
    },
    {
      "cell_type": "markdown",
      "metadata": {
        "id": "rynOg9C74oRZ"
      },
      "source": [
        "Para la solución numérica, definimos un sistema de ecuaciones diferenciales ordinarias que son\n",
        "$$\\Omega_i'=3\\Omega_i\\left(\\sum_{j=1}^2  \\Omega_j\\gamma_j -\\gamma_i  \\right)$$"
      ]
    },
    {
      "cell_type": "code",
      "metadata": {
        "id": "Ae_Nxxo_26_-"
      },
      "source": [
        "def eq(i0,ScalePara):\n",
        "        y=[]\n",
        "        for i in range(len(omegas0)):\n",
        "          y.append(i0[i])\n",
        "        dydt=[]\n",
        "        sumy = 0\n",
        "        for i in range(len(omegas0)):\n",
        "          sumy=sumy+y[i]*gammas[i]\n",
        "        for i in range(len(omegas0)):\n",
        "          dydt.append(3*y[i]*(sumy-gammas[i]))\n",
        "        return dydt"
      ],
      "execution_count": 168,
      "outputs": []
    },
    {
      "cell_type": "markdown",
      "metadata": {
        "id": "DHXc1EMF5Hep"
      },
      "source": [
        "Este método numérico tomará como condiciones iniciales a la solución analítica para \"N=inicio\" (donde \"inicio\" es el valor definidio para el intervalo de N en la solución analítica)."
      ]
    },
    {
      "cell_type": "markdown",
      "metadata": {
        "id": "hIfVdpnH5-fx"
      },
      "source": [
        "Resolvemos el sistema de ecuaciones con la función odeint de la librería scipy.integrate"
      ]
    },
    {
      "cell_type": "code",
      "source": [
        "para = ScalePara\n",
        "ScalePara = []\n",
        "for i in para:\n",
        "  ScalePara.append(i)\n"
      ],
      "metadata": {
        "id": "v1qx9Adt-FNZ"
      },
      "execution_count": 169,
      "outputs": []
    },
    {
      "cell_type": "code",
      "metadata": {
        "id": "NFwonXc76Hsx"
      },
      "source": [
        "sol=odeint(eq, i0, ScalePara)"
      ],
      "execution_count": 170,
      "outputs": []
    },
    {
      "cell_type": "code",
      "source": [
        "sol[:,0]"
      ],
      "metadata": {
        "colab": {
          "base_uri": "https://localhost:8080/"
        },
        "id": "TOhA6EEP-5kN",
        "outputId": "7983ab9d-7ab3-4e4f-8973-fdbe2fbd8969"
      },
      "execution_count": 171,
      "outputs": [
        {
          "output_type": "execute_result",
          "data": {
            "text/plain": [
              "array([1.        , 0.99993232, 0.99986465, ...,        nan,        nan,\n",
              "              nan])"
            ]
          },
          "metadata": {},
          "execution_count": 171
        }
      ]
    },
    {
      "cell_type": "markdown",
      "metadata": {
        "id": "aYUGENNq6UaR"
      },
      "source": [
        "Finalmete graficamos las soluciones numéricas."
      ]
    },
    {
      "cell_type": "code",
      "metadata": {
        "id": "gCuM9q8TQdSC"
      },
      "source": [
        "plt.figure(figsize=(11,6))\n",
        "for i in range(len(omegas0)):\n",
        "  plt.plot(ScalePara, sol[:, i], label=syms[i]) \n",
        "num = len(ScalePara)\n",
        "plt.xlabel('a(t)')\n",
        "plt.ylabel('$\\Omega$')\n",
        "plt.legend()\n",
        "plt.grid()\n",
        "plt.ylim(0,1.02)\n",
        "plt.show()"
      ],
      "execution_count": 172,
      "outputs": []
    },
    {
      "cell_type": "markdown",
      "metadata": {
        "id": "3Mwu059EO-2L"
      },
      "source": [
        "Podemos hacer una comparación gráfica entre la solución numérica y la analítica, que graficamos a continuación. Las lineas continuas son la solución analítica, mientras que las discontinuas son las soluciones numéricas."
      ]
    },
    {
      "cell_type": "markdown",
      "metadata": {
        "id": "qC_lGBOWPcGC"
      },
      "source": [
        "Para encontrar el error de nuestra solución numérica calculamos el error relativo\n",
        "$$\\dfrac{\\tilde{\\Omega}-\\Omega}{\\Omega}=\\dfrac{\\Delta\\Omega}{\\Omega}$$\n",
        "donde $\\Omega$ es la solución analítica y $\\tilde{\\Omega}$ es la solución numérica."
      ]
    },
    {
      "cell_type": "markdown",
      "source": [
        ""
      ],
      "metadata": {
        "id": "uzr3PFRGbqda"
      }
    },
    {
      "cell_type": "code",
      "metadata": {
        "id": "XL4OkUngsHrY"
      },
      "source": [
        "fig,(ax1,ax2)=plt.subplots(2,1,figsize=(11,8))\n",
        "gs=gridspec.GridSpec(2,1, height_ratios=[2,1])\n",
        "ax1=plt.subplot(gs[0])\n",
        "###\n",
        "colors=['b','orange','g']\n",
        "\n",
        "papa  = ScalePara\n",
        "soli0 = (So[0])\n",
        "soli1 = (So[1])\n",
        "soli2 = (So[2])\n",
        "So = []\n",
        "So0 = []\n",
        "So1 = []\n",
        "So2 = []\n",
        "sol0 = []\n",
        "sol1 = []\n",
        "sol2 = []\n",
        "ScalePara = []\n",
        "for i in range(0,len(papa)-10):\n",
        "  ScalePara.append(papa[i])\n",
        "  So0.append((soli0[i].tolist())[0])\n",
        "  So1.append((soli1[i].tolist())[0])\n",
        "  So2.append((soli2[i].tolist())[0])\n",
        "  sol0.append(sol[i, 0])\n",
        "  sol1.append(sol[i, 1])\n",
        "  sol2.append(sol[i, 2])\n",
        "So.append(So0)\n",
        "So.append(So1)\n",
        "So.append(So2)\n",
        "sol = []\n",
        "sol.append(sol0)\n",
        "sol.append(sol1)\n",
        "sol.append(sol2)\n",
        "np.shape(So)\n",
        "for i in range(len(omegas0)):\n",
        "  ax1.plot(ScalePara, sol[ i], '--',color =colors[i]) \n",
        "for i in range(len(omegas0)):\n",
        "  ax1.plot(ScalePara, (So[i]),color =colors[i],lw=2) \n",
        "plt.grid()\n",
        "ome=syms\n",
        "###\n",
        "\n",
        "ax2 = plt.subplot(gs[1], sharex = ax1)\n",
        "print(np.shape(So[2]))\n",
        "print(np.shape(So[2]))\n",
        "for i in range(len(omegas0)):\n",
        "  ax2.plot(ScalePara,((-np.array(So[i])+np.array(sol[i]))/1),color =colors[i],lw=2)\n",
        "plt.grid()\n",
        "ax1.legend(ome,loc='best',frameon=False)\n",
        "ax1.set_ylabel(r'$\\Omega$')\n",
        "ax2.set_xlabel(r'$a(t)$')\n",
        "ax2.set_ylabel(r'$\\Delta\\Omega $')\n",
        "plt.setp(ax1.get_xticklabels(), visible=False)\n",
        "plt.subplots_adjust(hspace=.0)"
      ],
      "execution_count": 173,
      "outputs": []
    },
    {
      "cell_type": "code",
      "source": [
        ""
      ],
      "metadata": {
        "id": "73CFjGIejm4F"
      },
      "execution_count": 173,
      "outputs": []
    },
    {
      "cell_type": "markdown",
      "source": [
        "## Parametros de densidad en función de $z$"
      ],
      "metadata": {
        "id": "mOBlujwljnPF"
      }
    },
    {
      "cell_type": "markdown",
      "metadata": {
        "id": "t6MZmwiCjnPH"
      },
      "source": [
        "Sabemos que\n",
        "$$\\Omega_i= \\Omega_{i,0}\\dfrac{a^{-3\\gamma_i}}{\\sum_{j=1}^{n+1}\\Omega_{j,0}a^{-3\\gamma_j}} $$\n",
        " y que podemos escribir $z = \\dfrac{1}{a(t)}-1$, entonces $a(t) = \\dfrac{1}{z+1}$, de manera que obtenemos lo siguiente:\n",
        " $$\\Omega_i= \\Omega_{i,0}\\dfrac{\\left(\\dfrac{1}{z+1}\\right)^{-3\\gamma_i}}{\\sum_{j=1}^{n+1}\\Omega_{j,0}\\left(\\dfrac{1}{z+1}\\right)^{-3\\gamma_j}} $$"
      ]
    },
    {
      "cell_type": "code",
      "metadata": {
        "id": "Ti_0dbbijnPI"
      },
      "source": [
        "gammas = [1/3,2/3,-2/3]"
      ],
      "execution_count": 174,
      "outputs": []
    },
    {
      "cell_type": "markdown",
      "metadata": {
        "id": "DSfGwrLYjnPJ"
      },
      "source": [
        "Definimos la suma $\\sum_{j=1}^{3}\\Omega_{j,0}\\left(\\dfrac{1}{z+1}\\right)^{-3\\gamma_jN}$"
      ]
    },
    {
      "cell_type": "code",
      "metadata": {
        "id": "ITxfh157jnPJ"
      },
      "source": [
        "def Denominador_solucion(omega0, gammas,z):\n",
        "  Den=0\n",
        "  for i in range(len(omega0)):\n",
        "    Den=omegas0[i]*np.array(1/(z+1))**(-3*gammas[i])+Den\n",
        "  return Den"
      ],
      "execution_count": 175,
      "outputs": []
    },
    {
      "cell_type": "markdown",
      "metadata": {
        "id": "tpFKyJ4rjnPJ"
      },
      "source": [
        "Escribimos la solución exacta de la ecuación diferencial utilizando las condiciones iniciales que cumplan la constricción de Friedmann"
      ]
    },
    {
      "cell_type": "code",
      "metadata": {
        "id": "poYV5JtnjnPK"
      },
      "source": [
        "def soll(omegas0,z):\n",
        "  omega=[]\n",
        "  i0= omegas0\n",
        "  for i in range(len(omegas0)):\n",
        "    omega.append(i0[i]*(np.array(1/(z+1))**(-3*gammas[i]))/Denominador_solucion(omegas0,gammas,z))\n",
        "  return omega"
      ],
      "execution_count": 176,
      "outputs": []
    },
    {
      "cell_type": "markdown",
      "metadata": {
        "id": "BGuP_-zFjnPL"
      },
      "source": [
        "Notemos que estas condiciones iniciales respetan la constricción de Friedmann"
      ]
    },
    {
      "cell_type": "code",
      "metadata": {
        "id": "LvK40CNajnPL"
      },
      "source": [
        "sum=0\n",
        "for i in range(len(omegas0)):\n",
        "  sum=omegas0[i]+sum\n",
        "print(sum) "
      ],
      "execution_count": 177,
      "outputs": []
    },
    {
      "cell_type": "markdown",
      "metadata": {
        "id": "ut8T8Pp-jnPM"
      },
      "source": [
        "Encontramos nuestras soluciones analíticas con las condiciones iniciales y valores de gamma que definimos previamente"
      ]
    },
    {
      "cell_type": "code",
      "metadata": {
        "id": "ZYQmyNS7jnPM"
      },
      "source": [
        "i =1 \n",
        "So=(soll(omegas0,z))\n",
        "np.shape(So)"
      ],
      "execution_count": 178,
      "outputs": []
    },
    {
      "cell_type": "markdown",
      "metadata": {
        "id": "uzQh-7rAjnPM"
      },
      "source": [
        "Finalmete, graficamos las soluciones analíticas"
      ]
    },
    {
      "cell_type": "code",
      "metadata": {
        "id": "31FO7Fo6jnPN"
      },
      "source": [
        "plt.figure(figsize=(11,6))\n",
        "for i in range(len(omegas0)):\n",
        "  plt.plot(z, So[i], label=syms[i]) \n",
        "####\n",
        "plt.xlabel('$z$')\n",
        "plt.ylabel('$\\Omega$')\n",
        "plt.legend()\n",
        "plt.grid()\n",
        "plt.xlim(-1,20)\n",
        "plt.ylim(0,1.02)\n",
        "plt.show()"
      ],
      "execution_count": 179,
      "outputs": []
    },
    {
      "cell_type": "markdown",
      "source": [
        "## Parametros de densidad en función de t"
      ],
      "metadata": {
        "id": "5d-qOcXbjnPN"
      }
    },
    {
      "cell_type": "code",
      "source": [
        "def eq(a,t):\n",
        "  y=a\n",
        "  dydt=((omegas0[0]*y**(-1)+omegas0[1]*y**(-2)+omegas0[2]*y**2)**(1/2))*H_0\n",
        "  return dydt\n",
        "\n",
        "t = np.linspace(13.797*10**9,0,15000)\n",
        "time = []\n",
        "sol = odeint(eq, 1, t)\n",
        "ScalePara = []\n",
        "j = 0\n",
        "for i in sol:\n",
        "  if np.isnan(i) == False:\n",
        "    time.append(t[j])\n",
        "    ScalePara.append((i))\n",
        "  j += 1"
      ],
      "metadata": {
        "colab": {
          "base_uri": "https://localhost:8080/"
        },
        "id": "daDRl8uUhN94",
        "outputId": "3948ac6f-2ec1-499e-dba8-9fdc05977b8d"
      },
      "execution_count": 180,
      "outputs": [
        {
          "output_type": "stream",
          "name": "stderr",
          "text": [
            "/usr/local/lib/python3.7/dist-packages/ipykernel_launcher.py:3: RuntimeWarning: invalid value encountered in sqrt\n",
            "  This is separate from the ipykernel package so we can avoid doing imports until\n"
          ]
        }
      ]
    },
    {
      "cell_type": "code",
      "metadata": {
        "id": "x394SzavjnPO"
      },
      "source": [
        "def Denominador_solucion(omega0, gammas,ScalePara):\n",
        "  Den=0\n",
        "  for i in range(len(omega0)):\n",
        "    Den=omegas0[i]*np.array(ScalePara)**(-3*gammas[i])+Den\n",
        "  return Den"
      ],
      "execution_count": 181,
      "outputs": []
    },
    {
      "cell_type": "markdown",
      "metadata": {
        "id": "AKb17aN7jnPO"
      },
      "source": [
        "Escribimos la solución exacta de la ecuación diferencial utilizando las condiciones iniciales que cumplan la constricción de Friedmann"
      ]
    },
    {
      "cell_type": "code",
      "metadata": {
        "id": "lvDFX57QjnPO"
      },
      "source": [
        "def soll(omegas0,ScalePara):\n",
        "  omega=[]\n",
        "  i0= omegas0\n",
        "  for i in range(len(omegas0)):\n",
        "    omega.append(i0[i]*(np.array(ScalePara)**(-3*gammas[i]))/Denominador_solucion(omegas0,gammas,ScalePara))\n",
        "  return omega"
      ],
      "execution_count": 182,
      "outputs": []
    },
    {
      "cell_type": "markdown",
      "metadata": {
        "id": "vGUSwME-jnPO"
      },
      "source": [
        "Notemos que estas condiciones iniciales respetan la constricción de Friedmann"
      ]
    },
    {
      "cell_type": "code",
      "metadata": {
        "id": "WiHnfSiKjnPP"
      },
      "source": [
        "sum=0\n",
        "for i in range(len(omegas0)):\n",
        "  sum=omegas0[i]+sum\n",
        "print(sum) "
      ],
      "execution_count": 183,
      "outputs": []
    },
    {
      "cell_type": "markdown",
      "metadata": {
        "id": "3zChiNKyjnPQ"
      },
      "source": [
        "Encontramos nuestras soluciones analíticas con las condiciones iniciales y valores de gamma que definimos previamente"
      ]
    },
    {
      "cell_type": "code",
      "metadata": {
        "id": "UvGBU-EnjnPQ"
      },
      "source": [
        "i =1 \n",
        "So=(soll(omegas0,ScalePara))\n"
      ],
      "execution_count": 184,
      "outputs": []
    },
    {
      "cell_type": "code",
      "source": [
        "Sola = []\n",
        "np.shape(So)\n",
        "for i in range(len(ScalePara)):\n",
        "  Sola.append(So[0][0][0])\n",
        "H_0 = H_0*10**4*1.6"
      ],
      "metadata": {
        "id": "XN2tn7UajnPQ"
      },
      "execution_count": 185,
      "outputs": []
    },
    {
      "cell_type": "markdown",
      "metadata": {
        "id": "wjgS7lIfjnPR"
      },
      "source": [
        "Finalmete, graficamos las soluciones analíticas"
      ]
    },
    {
      "cell_type": "code",
      "metadata": {
        "id": "tWpWApZajnPR"
      },
      "source": [
        "plt.figure(figsize=(11,6))\n",
        "for i in range(len(omegas0)):\n",
        "  plt.plot(time, So[i], label=syms[i]) \n",
        "####\n",
        "plt.xlabel('$Years$')\n",
        "plt.ylabel('$\\Omega$')\n",
        "plt.legend()\n",
        "plt.grid()\n",
        "plt.ylim(0,1.02)\n",
        "plt.show()"
      ],
      "execution_count": 186,
      "outputs": []
    },
    {
      "cell_type": "markdown",
      "source": [
        "# Proper distance"
      ],
      "metadata": {
        "id": "Ajl6OJoWBy1Z"
      }
    },
    {
      "cell_type": "markdown",
      "source": [
        "$$\\dot{d_p} = \\dfrac{\\dot{a}}{a}d_p$$"
      ],
      "metadata": {
        "id": "C4BnleIZB1md"
      }
    },
    {
      "cell_type": "code",
      "source": [
        "a = np.array(ScalePara)\n",
        "adot = Adott(a,time)"
      ],
      "metadata": {
        "id": "jrSNsIuhNjwd"
      },
      "execution_count": 187,
      "outputs": []
    },
    {
      "cell_type": "code",
      "source": [
        "adott = adot\n",
        "adot = []\n",
        "adot1 = adotl\n",
        "adot = []\n",
        "adot2 = adotm\n",
        "adot = []\n",
        "adot3 = adotr\n",
        "adot = []\n",
        "for i in range(len(adot)):\n",
        "  adot.append(((adott[0]).tolist())[0])\n",
        "  adotl.append(((adot1[0]).tolist())[0])\n",
        "  adotm.append(((adot2[0]).tolist())[0])\n",
        "  adotr.append(((adot3[0]).tolist())[0])"
      ],
      "metadata": {
        "id": "I4KcwUn-mg81"
      },
      "execution_count": 188,
      "outputs": []
    },
    {
      "cell_type": "code",
      "source": [
        "temp0 = a\n",
        "temp1 = adot\n",
        "a = []\n",
        "for i in range(len(temp0)):\n",
        "  a.append((temp0[i])[0])\n",
        "a = np.array(a)\n",
        "adot = np.array(adot)"
      ],
      "metadata": {
        "id": "9qDCoJEZNGpM"
      },
      "execution_count": 189,
      "outputs": []
    },
    {
      "cell_type": "code",
      "source": [
        "t = np.linspace(13.797*10**9,0,15000)\n",
        "inte =[]\n",
        "intel =[]\n",
        "intem =[]\n",
        "inter =[]\n",
        "acum =0\n",
        "acul = 0\n",
        "acumm = 0\n",
        "acur = 0\n",
        "redshi = []\n",
        "redshil = []\n",
        "redshim = []\n",
        "redshir = []\n",
        "time = []\n",
        "step = (t[0]-t[1])/15000\n",
        "for i in range(len(a)-1):\n",
        "  acum += step * ((1/a[i]+1/a[i+1])/2)\n",
        "  acul += step * ((1/al[i]+1/al[i+1])/2)\n",
        "  acumm += step * ((1/am[i]+1/am[i+1])/2)\n",
        "  acur += step * ((1/ar[i]+1/ar[i+1])/2)\n",
        "  time.append((t[i]+t[i+1])/2)\n",
        "  inte.append(acum)\n",
        "  intel.append(acul)\n",
        "  intem.append(acumm)\n",
        "  inter.append(acur)\n",
        "  redshi.append((z[i]+z[i+1])/2)\n",
        "  redshil.append((zl[i]+zl[i+1])/2)\n",
        "  redshim.append((zm[i]+zm[i+1])/2)\n",
        "  redshir.append((zr[i]+zr[i+1])/2)\n",
        "plt.figure(figsize=(11,6))\n",
        "dp = np.array(inte)\n",
        "dpl = np.array(intel)\n",
        "dpm = np.array(intem)\n",
        "dpr = np.array(inter)\n",
        "plt.plot(redshi,dp*H_0,label = '$\\Lambda-CMD$')\n",
        "plt.plot(redshil,dpl*H_0)\n",
        "plt.plot(redshim,dpm*H_0)\n",
        "plt.plot(redshir,dpr*H_0)\n",
        "# plt.ylim(0.001,1)\n",
        "plt.xlim(0.01,1000)\n",
        "plt.grid()\n",
        "plt.yscale('log')\n",
        "plt.xscale('log')\n",
        "\n",
        "plt.xlabel('z')\n",
        "plt.ylabel('$(H_0/c)d_p$')\n",
        "\n",
        "plt.show()"
      ],
      "metadata": {
        "id": "2E3zSDy1B_Jy",
        "colab": {
          "base_uri": "https://localhost:8080/",
          "height": 392
        },
        "outputId": "863c0cb8-9120-4dd3-91c9-392fb915a49f"
      },
      "execution_count": 190,
      "outputs": [
        {
          "output_type": "display_data",
          "data": {
            "text/plain": [
              "<Figure size 792x432 with 1 Axes>"
            ],
            "image/png": "[encoded data removed]"
          },
          "metadata": {
            "needs_background": "light"
          }
        }
      ]
    },
    {
      "cell_type": "markdown",
      "source": [
        "#Luminosity distance"
      ],
      "metadata": {
        "id": "Ps1Rv3NYjtbt"
      }
    },
    {
      "cell_type": "markdown",
      "source": [
        "Sabemos que para curvatura nula, tenemos\n",
        "$$d_L = d_p(t_0)(1+z)$$"
      ],
      "metadata": {
        "id": "pfJsTnujj0rc"
      }
    },
    {
      "cell_type": "code",
      "source": [
        "dL = []\n",
        "dLl = []\n",
        "dLm = []\n",
        "dLr = []\n",
        "for i in range(len(z)):\n",
        "  dL.append(dp*(1+(((z.tolist())[i]))))\n",
        "  dLl.append(dpl*(1+zl[i]))\n",
        "  dLm.append(dpm*(1+zm[i]))\n",
        "  dLr.append(dpr*(1+zr[i]))\n",
        "np.shape(dL)"
      ],
      "metadata": {
        "id": "lW8oI1vkjmz7",
        "colab": {
          "base_uri": "https://localhost:8080/"
        },
        "outputId": "55b3b0f7-2348-45ee-cd97-69bcaa381eff"
      },
      "execution_count": 191,
      "outputs": [
        {
          "output_type": "execute_result",
          "data": {
            "text/plain": [
              "(14044, 14043)"
            ]
          },
          "metadata": {},
          "execution_count": 191
        }
      ]
    },
    {
      "cell_type": "code",
      "source": [
        "((dL[0]).tolist()).pop()"
      ],
      "metadata": {
        "colab": {
          "base_uri": "https://localhost:8080/"
        },
        "id": "YRIwZKrhoHRq",
        "outputId": "88909128-9435-46e8-e47c-c7373ef90730"
      },
      "execution_count": 192,
      "outputs": [
        {
          "output_type": "execute_result",
          "data": {
            "text/plain": [
              "2708581.656119623"
            ]
          },
          "metadata": {},
          "execution_count": 192
        }
      ]
    },
    {
      "cell_type": "code",
      "source": [
        "plt.figure(figsize=(9,6))\n",
        "plt.plot(redshi,dL[1]*H_0)\n",
        "plt.plot(redshil,dLl[1]*H_0)\n",
        "plt.plot(redshim,dLm[1]*H_0)\n",
        "plt.plot(redshir,dLr[1]*H_0)\n",
        "plt.xlim(0.01,1000)\n",
        "plt.grid()\n",
        "plt.yscale('log')\n",
        "plt.xscale('log')\n",
        "\n",
        "plt.xlabel('z')\n",
        "plt.ylabel('$(H_0/c)d_L$')\n",
        "\n",
        "plt.show()"
      ],
      "metadata": {
        "colab": {
          "base_uri": "https://localhost:8080/",
          "height": 392
        },
        "id": "oIHyoLr6mTeM",
        "outputId": "302ede73-53d2-48e5-b78c-ef0db8ec5658"
      },
      "execution_count": 193,
      "outputs": [
        {
          "output_type": "display_data",
          "data": {
            "text/plain": [
              "<Figure size 648x432 with 1 Axes>"
            ],
            "image/png": "[encoded data removed]"
          },
          "metadata": {
            "needs_background": "light"
          }
        }
      ]
    },
    {
      "cell_type": "markdown",
      "source": [
        "# Angular distance\n",
        "$$d_A = \\dfrac{d_L}{(1+z)^2}$$"
      ],
      "metadata": {
        "id": "dWsfw8xDpyfG"
      }
    },
    {
      "cell_type": "code",
      "source": [
        "np.shape((dL[0]).tolist())"
      ],
      "metadata": {
        "colab": {
          "base_uri": "https://localhost:8080/"
        },
        "id": "TxSpvtwCujDZ",
        "outputId": "d74dc581-f045-4337-a6e9-86094d19d8f9"
      },
      "execution_count": 194,
      "outputs": [
        {
          "output_type": "execute_result",
          "data": {
            "text/plain": [
              "(14043,)"
            ]
          },
          "metadata": {},
          "execution_count": 194
        }
      ]
    },
    {
      "cell_type": "code",
      "source": [
        "dA = []\n",
        "dAl = []\n",
        "dAm = []\n",
        "dAr = []\n",
        "for i in range(14043):\n",
        "  dA.append(((dL[0]).tolist())[i]/(1+redshi[i][0])**2)\n",
        "  dAl.append(dLl[1][i]/(1+redshil[i][0])**2)\n",
        "  dAm.append(dLm[1][i]/(1+redshim[i][0])**2)\n",
        "  dAr.append(dLr[1][i]/(1+redshir[i][0])**2)"
      ],
      "metadata": {
        "id": "fNg9zGXmqq_-"
      },
      "execution_count": 195,
      "outputs": []
    },
    {
      "cell_type": "code",
      "source": [
        "temp1"
      ],
      "metadata": {
        "colab": {
          "base_uri": "https://localhost:8080/"
        },
        "id": "tJa87tg_WOZ8",
        "outputId": "1a1bf898-09f4-465d-ee97-d068d3bbcbc3"
      },
      "execution_count": 196,
      "outputs": [
        {
          "output_type": "execute_result",
          "data": {
            "text/plain": [
              "[]"
            ]
          },
          "metadata": {},
          "execution_count": 196
        }
      ]
    },
    {
      "cell_type": "code",
      "source": [
        "\n",
        "# temp2 = dAl\n",
        "# dAl = []\n",
        "# temp3 = dAm\n",
        "# dAm = []\n",
        "# temp4 = dAr\n",
        "# dAm = []\n",
        "# for i in range(len(temp4)):\n",
        "#   dAl.append(temp1[i][0])\n"
      ],
      "metadata": {
        "id": "e5sWZbSoHnPE"
      },
      "execution_count": 197,
      "outputs": []
    },
    {
      "cell_type": "code",
      "source": [
        "plt.figure(figsize=(9,6))\n",
        "\n",
        "plt.plot(redshi,np.array(dA)*H_0,label='$\\Lambda-CDM$')\n",
        "plt.plot(redshil,np.array(dAl)*H_0,label='$\\Lambda$')\n",
        "plt.plot(redshim,np.array(dAm)*H_0,label='$matter$')\n",
        "plt.plot(redshir,np.array(dAr)*H_0,label='$rad$')\n",
        "plt.xlim(0.01,1000)\n",
        "plt.grid()\n",
        "plt.yscale('log')\n",
        "plt.xscale('log')\n",
        "plt.legend()\n",
        "plt.xlabel('z')\n",
        "plt.ylabel('$\\Omega$')\n",
        "plt.title('Evolución de $\\Omega_i$ en N utilizando la solución numérica')\n",
        "\n",
        "plt.show()"
      ],
      "metadata": {
        "id": "3fxpX9nQqEI6",
        "colab": {
          "base_uri": "https://localhost:8080/",
          "height": 410
        },
        "outputId": "c03dda67-8d5c-4c4c-a51c-47a434e065c4"
      },
      "execution_count": 198,
      "outputs": [
        {
          "output_type": "display_data",
          "data": {
            "text/plain": [
              "<Figure size 648x432 with 1 Axes>"
            ],
            "image/png": "[encoded data removed]"
          },
          "metadata": {
            "needs_background": "light"
          }
        }
      ]
    },
    {
      "cell_type": "code",
      "source": [
        ""
      ],
      "metadata": {
        "id": "aij1VglKr3Xy"
      },
      "execution_count": 198,
      "outputs": []
    }
  ],
  "metadata": {
    "colab": {
      "name": "Proyecto_1_cosmología_t.ipynb",
      "provenance": [],
      "collapsed_sections": [],
      "include_colab_link": true
    },
    "kernelspec": {
      "display_name": "Python 3",
      "name": "python3"
    },
    "language_info": {
      "name": "python"
    }
  },
  "nbformat": 4,
  "nbformat_minor": 0
}